{
 "cells": [
  {
   "cell_type": "code",
   "execution_count": 2,
   "metadata": {},
   "outputs": [],
   "source": [
    "from itertools import cycle\n",
    "from random import randrange\n",
    "from tkinter import Canvas, Tk, messagebox, font"
   ]
  },
  {
   "cell_type": "code",
   "execution_count": 3,
   "metadata": {},
   "outputs": [],
   "source": [
    "# function for creating an egg\n",
    "def create_egg():\n",
    "    x = randrange(10,740)\n",
    "    y=40\n",
    "    new_egg = c.create_oval(x,y,x+egg_width, y+egg_height, fill=next(color_cycle), width=0)\n",
    "    eggs.append(new_egg)\n",
    "    root.after(egg_interval,create_egg)"
   ]
  },
  {
   "cell_type": "code",
   "execution_count": 4,
   "metadata": {},
   "outputs": [],
   "source": [
    "# function to move an egg\n",
    "def move_eggs():\n",
    "    for egg in eggs:\n",
    "        (egg_x, egg_y, egg_x2, egg_y2)= c.coords(egg)\n",
    "        c.move(egg,5,10)\n",
    "        if egg_y2 > canvas_height:\n",
    "            egg_dropped(egg)\n",
    "    root.after(egg_speed,move_eggs)"
   ]
  },
  {
   "cell_type": "code",
   "execution_count": 5,
   "metadata": {},
   "outputs": [],
   "source": [
    "# function for an egg dropped \n",
    "def egg_dropped(egg):\n",
    "    eggs.remove(egg)\n",
    "    c.delete(egg)\n",
    "    lose_a_life()\n",
    "    if lives_remaining ==0:\n",
    "        messagebox.showinfo('Game Over!', 'Final Score: '+str(score))\n",
    "        root.destroy()"
   ]
  },
  {
   "cell_type": "code",
   "execution_count": 6,
   "metadata": {},
   "outputs": [],
   "source": [
    "# function for subtracting a life\n",
    "def lose_a_life():\n",
    "    global lives_remaining\n",
    "    lives_remaining-=1\n",
    "    c.itemconfigure(lives_text, text='Lives: '+str(lives_remaining))\n",
    "    "
   ]
  },
  {
   "cell_type": "code",
   "execution_count": 7,
   "metadata": {},
   "outputs": [],
   "source": [
    "def check_catch():\n",
    "    (catcher_x, catcher_y, catcher_x2, catcher_y2) = c.coords(catcher)\n",
    "    for egg in eggs:\n",
    "        (egg_x, egg_y, egg_x2, egg_y2)= c.coords(egg)\n",
    "        if catcher_x < egg_x and egg_x2 < catcher_x2 and catcher_y2 - egg_y2 < 40:\n",
    "            eggs.remove(egg)\n",
    "            c.delete(egg)\n",
    "            increase_score(egg_score)\n",
    "    root.after(100,check_catch)"
   ]
  },
  {
   "cell_type": "code",
   "execution_count": 8,
   "metadata": {},
   "outputs": [],
   "source": [
    "def increase_score(points):\n",
    "    global score, egg_speed, egg_interval\n",
    "    score +=points\n",
    "    egg_speed = int(egg_speed * difficulty_factor)\n",
    "    egg_interval = int(egg_interval* difficulty_factor)\n",
    "    c.itemconfigure(score_text, text='Score: '+str(score))\n",
    "    "
   ]
  },
  {
   "cell_type": "code",
   "execution_count": 9,
   "metadata": {},
   "outputs": [],
   "source": [
    "def move_left(event):\n",
    "    (x1,y1,x2,y2) = c.coords(catcher)\n",
    "    if x1 > 0:\n",
    "        c.move(catcher, -20,0)"
   ]
  },
  {
   "cell_type": "code",
   "execution_count": 10,
   "metadata": {},
   "outputs": [],
   "source": [
    "def move_right(event):\n",
    "    (x1, y1,x2,y2) = c.coords(catcher)\n",
    "    if x2<canvas_width:\n",
    "        c.move(catcher,20,0)"
   ]
  },
  {
   "cell_type": "code",
   "execution_count": 11,
   "metadata": {},
   "outputs": [
    {
     "name": "stderr",
     "output_type": "stream",
     "text": [
      "Exception in Tkinter callback\n",
      "Traceback (most recent call last):\n",
      "  File \"C:\\Users\\karan\\Anaconda3\\lib\\tkinter\\__init__.py\", line 1705, in __call__\n",
      "    return self.func(*args)\n",
      "  File \"C:\\Users\\karan\\Anaconda3\\lib\\tkinter\\__init__.py\", line 749, in callit\n",
      "    func(*args)\n",
      "  File \"<ipython-input-4-7918903b3150>\", line 3, in move_eggs\n",
      "    (egg_x, egg_y, egg_x2, egg_y2)= c.coords(egg)\n",
      "  File \"C:\\Users\\karan\\Anaconda3\\lib\\tkinter\\__init__.py\", line 2469, in coords\n",
      "    self.tk.call((self._w, 'coords') + args))]\n",
      "_tkinter.TclError: invalid command name \".!canvas\"\n"
     ]
    }
   ],
   "source": [
    "\n",
    "\n",
    "canvas_width=800\n",
    "canvas_height=400\n",
    "root=Tk()\n",
    "c = Canvas(root, width=canvas_width, height=canvas_height, background='deep sky blue')\n",
    "c.create_rectangle(-5, canvas_height-100, canvas_width+5, canvas_height+5, fill='sea green', width=0)\n",
    "c.create_oval(-80,-80,120,120,fill='orange',width=0)\n",
    "c.pack()\n",
    "\n",
    "color_cycle = cycle(['light blue','light green','light pink','light yellow','light cyan'])\n",
    "egg_width = 45\n",
    "egg_height = 55\n",
    "egg_score = 10\n",
    "egg_speed = 500\n",
    "egg_interval = 4000\n",
    "difficulty_factor = 0.95\n",
    "\n",
    "catcher_color = 'blue'\n",
    "catcher_width = 100\n",
    "catcher_height = 100\n",
    "catcher_start_x = canvas_width/2 - catcher_width/2\n",
    "catcher_start_y = canvas_height - catcher_height-20\n",
    "catcher_start_x2 = catcher_start_x + catcher_width\n",
    "catcher_start_y2 = catcher_start_y + catcher_height\n",
    "\n",
    "catcher = c.create_arc(catcher_start_x, catcher_start_y, catcher_start_x2, catcher_start_y2, start=200, extent=140, \\\n",
    "                       style='arc', outline=catcher_color, width=3)\n",
    "\n",
    "game_font = font.nametofont('TkFixedFont')\n",
    "game_font.config(size=18)\n",
    "\n",
    "score=0\n",
    "score_text = c.create_text(10,10,anchor='nw', font=game_font, fill='darkblue', text='Score:'+str(score))\n",
    "\n",
    "lives_remaining=3\n",
    "lives_text = c.create_text(canvas_width-1, 10, anchor='ne',font=game_font,\\\n",
    "                          fill='darkblue', text='Lives '+str(lives_remaining))\n",
    "\n",
    "eggs = []\n",
    "\n",
    "\n",
    "    \n",
    "\n",
    "    \n",
    "\n",
    "        \n",
    "\n",
    "\n",
    "    \n",
    "\n",
    "\n",
    "        \n",
    "\n",
    "        \n",
    "c.bind('<Left>',move_left)\n",
    "c.bind('<Right>',move_right)\n",
    "c.focus_set()\n",
    "\n",
    "root.after(1000,create_egg)\n",
    "root.after(1000,move_eggs)\n",
    "root.after(1000,check_catch)\n",
    "\n",
    "root.title(\"Egg Catcher Game\")\n",
    "root.mainloop()\n"
   ]
  },
  {
   "cell_type": "code",
   "execution_count": null,
   "metadata": {},
   "outputs": [],
   "source": []
  }
 ],
 "metadata": {
  "kernelspec": {
   "display_name": "Python 3",
   "language": "python",
   "name": "python3"
  },
  "language_info": {
   "codemirror_mode": {
    "name": "ipython",
    "version": 3
   },
   "file_extension": ".py",
   "mimetype": "text/x-python",
   "name": "python",
   "nbconvert_exporter": "python",
   "pygments_lexer": "ipython3",
   "version": "3.7.6"
  }
 },
 "nbformat": 4,
 "nbformat_minor": 4
}
